{
 "cells": [
  {
   "cell_type": "code",
   "execution_count": 1,
   "id": "e1a2469c-c2e3-4319-a000-82648fa4c63e",
   "metadata": {
    "tags": []
   },
   "outputs": [],
   "source": [
    "import numpy as np\n",
    "np.random.seed(42)\n",
    "import pandas as pd\n",
    "import os\n",
    "from tqdm import tqdm\n",
    "from scipy.stats import spearmanr, pearsonr\n",
    "from pingouin import partial_corr\n",
    "np.random.seed(42)\n",
    "from itertools import combinations\n",
    "%matplotlib widget\n",
    "import matplotlib.pyplot as plt\n",
    "import statsmodels.api as sm\n",
    "import random\n",
    "random.seed(42)"
   ]
  },
  {
   "cell_type": "code",
   "execution_count": 2,
   "id": "cc9a73ec-c9a4-44ad-a431-94a63ca8f5b5",
   "metadata": {},
   "outputs": [
    {
     "name": "stdout",
     "output_type": "stream",
     "text": [
      "(623, 1255)\n"
     ]
    }
   ],
   "source": [
    "### table1 info\n",
    "df_table1_all = pd.read_csv('table1_information_deidentified.csv', index_col=0)\n",
    "print(df_table1_all.shape)"
   ]
  },
  {
   "cell_type": "code",
   "execution_count": 3,
   "id": "468e16ae-73fc-4380-a19e-54b2f5bac98f",
   "metadata": {},
   "outputs": [],
   "source": [
    "df_table1_all['Age'] = df_table1_all.age"
   ]
  },
  {
   "cell_type": "code",
   "execution_count": 4,
   "id": "a054da07-0dce-455b-9f90-6cf7190bb9e5",
   "metadata": {},
   "outputs": [
    {
     "data": {
      "text/html": [
       "<div>\n",
       "<style scoped>\n",
       "    .dataframe tbody tr th:only-of-type {\n",
       "        vertical-align: middle;\n",
       "    }\n",
       "\n",
       "    .dataframe tbody tr th {\n",
       "        vertical-align: top;\n",
       "    }\n",
       "\n",
       "    .dataframe thead th {\n",
       "        text-align: right;\n",
       "    }\n",
       "</style>\n",
       "<table border=\"1\" class=\"dataframe\">\n",
       "  <thead>\n",
       "    <tr style=\"text-align: right;\">\n",
       "      <th></th>\n",
       "      <th>InstitutionCode</th>\n",
       "      <th>CDACLastModifiedDTS</th>\n",
       "      <th>age</th>\n",
       "      <th>cci_score_unweighted</th>\n",
       "      <th>cci_score_weighted</th>\n",
       "      <th>dx_cci_mi</th>\n",
       "      <th>dx_cci_chf</th>\n",
       "      <th>dx_cci_pvd</th>\n",
       "      <th>dx_cci_cevd</th>\n",
       "      <th>dx_cci_dementia</th>\n",
       "      <th>...</th>\n",
       "      <th>so_pos_amp_f</th>\n",
       "      <th>so_pos_amp_c</th>\n",
       "      <th>so_pos_amp_o</th>\n",
       "      <th>so_rate_f</th>\n",
       "      <th>so_rate_c</th>\n",
       "      <th>so_rate_o</th>\n",
       "      <th>so_slope_neg2_f</th>\n",
       "      <th>so_slope_neg2_c</th>\n",
       "      <th>so_slope_neg2_o</th>\n",
       "      <th>Age</th>\n",
       "    </tr>\n",
       "    <tr>\n",
       "      <th>sid</th>\n",
       "      <th></th>\n",
       "      <th></th>\n",
       "      <th></th>\n",
       "      <th></th>\n",
       "      <th></th>\n",
       "      <th></th>\n",
       "      <th></th>\n",
       "      <th></th>\n",
       "      <th></th>\n",
       "      <th></th>\n",
       "      <th></th>\n",
       "      <th></th>\n",
       "      <th></th>\n",
       "      <th></th>\n",
       "      <th></th>\n",
       "      <th></th>\n",
       "      <th></th>\n",
       "      <th></th>\n",
       "      <th></th>\n",
       "      <th></th>\n",
       "      <th></th>\n",
       "    </tr>\n",
       "  </thead>\n",
       "  <tbody>\n",
       "    <tr>\n",
       "      <th>sid00</th>\n",
       "      <td>1</td>\n",
       "      <td>2022-05-10 13:03:27.1613110</td>\n",
       "      <td>66.8</td>\n",
       "      <td>0.0</td>\n",
       "      <td>0.0</td>\n",
       "      <td>0.0</td>\n",
       "      <td>0.0</td>\n",
       "      <td>0.0</td>\n",
       "      <td>0.0</td>\n",
       "      <td>0.0</td>\n",
       "      <td>...</td>\n",
       "      <td>234.319868</td>\n",
       "      <td>243.988988</td>\n",
       "      <td>268.167189</td>\n",
       "      <td>5.305994</td>\n",
       "      <td>5.029968</td>\n",
       "      <td>4.473186</td>\n",
       "      <td>1809.564362</td>\n",
       "      <td>1842.692265</td>\n",
       "      <td>1974.20975</td>\n",
       "      <td>66.8</td>\n",
       "    </tr>\n",
       "    <tr>\n",
       "      <th>sid01</th>\n",
       "      <td>1</td>\n",
       "      <td>2022-05-10 13:03:01.0037450</td>\n",
       "      <td>58.0</td>\n",
       "      <td>NaN</td>\n",
       "      <td>NaN</td>\n",
       "      <td>NaN</td>\n",
       "      <td>NaN</td>\n",
       "      <td>NaN</td>\n",
       "      <td>NaN</td>\n",
       "      <td>NaN</td>\n",
       "      <td>...</td>\n",
       "      <td>38.866811</td>\n",
       "      <td>35.956362</td>\n",
       "      <td>42.167286</td>\n",
       "      <td>1.304802</td>\n",
       "      <td>0.304802</td>\n",
       "      <td>0.006263</td>\n",
       "      <td>322.301180</td>\n",
       "      <td>284.580296</td>\n",
       "      <td>192.42747</td>\n",
       "      <td>58.0</td>\n",
       "    </tr>\n",
       "  </tbody>\n",
       "</table>\n",
       "<p>2 rows × 1256 columns</p>\n",
       "</div>"
      ],
      "text/plain": [
       "       InstitutionCode          CDACLastModifiedDTS   age  \\\n",
       "sid                                                         \n",
       "sid00                1  2022-05-10 13:03:27.1613110  66.8   \n",
       "sid01                1  2022-05-10 13:03:01.0037450  58.0   \n",
       "\n",
       "       cci_score_unweighted  cci_score_weighted  dx_cci_mi  dx_cci_chf  \\\n",
       "sid                                                                      \n",
       "sid00                   0.0                 0.0        0.0         0.0   \n",
       "sid01                   NaN                 NaN        NaN         NaN   \n",
       "\n",
       "       dx_cci_pvd  dx_cci_cevd  dx_cci_dementia  ...  so_pos_amp_f  \\\n",
       "sid                                              ...                 \n",
       "sid00         0.0          0.0              0.0  ...    234.319868   \n",
       "sid01         NaN          NaN              NaN  ...     38.866811   \n",
       "\n",
       "       so_pos_amp_c  so_pos_amp_o  so_rate_f  so_rate_c  so_rate_o  \\\n",
       "sid                                                                  \n",
       "sid00    243.988988    268.167189   5.305994   5.029968   4.473186   \n",
       "sid01     35.956362     42.167286   1.304802   0.304802   0.006263   \n",
       "\n",
       "       so_slope_neg2_f  so_slope_neg2_c  so_slope_neg2_o   Age  \n",
       "sid                                                             \n",
       "sid00      1809.564362      1842.692265       1974.20975  66.8  \n",
       "sid01       322.301180       284.580296        192.42747  58.0  \n",
       "\n",
       "[2 rows x 1256 columns]"
      ]
     },
     "execution_count": 4,
     "metadata": {},
     "output_type": "execute_result"
    }
   ],
   "source": [
    "df_table1_all.head(2)"
   ]
  },
  {
   "cell_type": "code",
   "execution_count": 5,
   "id": "c467f376-3a9f-45a0-9f02-45ee6be680d9",
   "metadata": {},
   "outputs": [
    {
     "name": "stdout",
     "output_type": "stream",
     "text": [
      "(623, 853)\n"
     ]
    },
    {
     "data": {
      "text/html": [
       "<div>\n",
       "<style scoped>\n",
       "    .dataframe tbody tr th:only-of-type {\n",
       "        vertical-align: middle;\n",
       "    }\n",
       "\n",
       "    .dataframe tbody tr th {\n",
       "        vertical-align: top;\n",
       "    }\n",
       "\n",
       "    .dataframe thead th {\n",
       "        text-align: right;\n",
       "    }\n",
       "</style>\n",
       "<table border=\"1\" class=\"dataframe\">\n",
       "  <thead>\n",
       "    <tr style=\"text-align: right;\">\n",
       "      <th></th>\n",
       "      <th>interval_mri-eeg_abs1</th>\n",
       "      <th>report_date_time</th>\n",
       "      <th>report_description</th>\n",
       "      <th>report_status</th>\n",
       "      <th>report_type</th>\n",
       "      <th>age</th>\n",
       "      <th>sex</th>\n",
       "      <th>bmi</th>\n",
       "      <th>ahi</th>\n",
       "      <th>medbenzo</th>\n",
       "      <th>...</th>\n",
       "      <th>vol-ctx--insula</th>\n",
       "      <th>vol-total_ventricle</th>\n",
       "      <th>vol-ctx--anterior</th>\n",
       "      <th>vol-striatum</th>\n",
       "      <th>alpha_bandpower_mean_o_w</th>\n",
       "      <th>dt_eeg_mri_abs</th>\n",
       "      <th>dt_mmse_eeg_abs</th>\n",
       "      <th>dt_mmse_mri_abs</th>\n",
       "      <th>dt</th>\n",
       "      <th>dt_abs</th>\n",
       "    </tr>\n",
       "    <tr>\n",
       "      <th>sid</th>\n",
       "      <th></th>\n",
       "      <th></th>\n",
       "      <th></th>\n",
       "      <th></th>\n",
       "      <th></th>\n",
       "      <th></th>\n",
       "      <th></th>\n",
       "      <th></th>\n",
       "      <th></th>\n",
       "      <th></th>\n",
       "      <th></th>\n",
       "      <th></th>\n",
       "      <th></th>\n",
       "      <th></th>\n",
       "      <th></th>\n",
       "      <th></th>\n",
       "      <th></th>\n",
       "      <th></th>\n",
       "      <th></th>\n",
       "      <th></th>\n",
       "      <th></th>\n",
       "    </tr>\n",
       "  </thead>\n",
       "  <tbody>\n",
       "    <tr>\n",
       "      <th>sid00</th>\n",
       "      <td>258</td>\n",
       "      <td>NaN</td>\n",
       "      <td>NaN</td>\n",
       "      <td>NaN</td>\n",
       "      <td>NaN</td>\n",
       "      <td>66.832877</td>\n",
       "      <td>0</td>\n",
       "      <td>32.37</td>\n",
       "      <td>8.9</td>\n",
       "      <td>0</td>\n",
       "      <td>...</td>\n",
       "      <td>0.008634</td>\n",
       "      <td>0.026705</td>\n",
       "      <td>0.015385</td>\n",
       "      <td>0.016066</td>\n",
       "      <td>75.915455</td>\n",
       "      <td>0.706849</td>\n",
       "      <td>3.306849</td>\n",
       "      <td>2.600000</td>\n",
       "      <td>0.706849</td>\n",
       "      <td>0.706849</td>\n",
       "    </tr>\n",
       "    <tr>\n",
       "      <th>sid01</th>\n",
       "      <td>1280</td>\n",
       "      <td>NaN</td>\n",
       "      <td>NaN</td>\n",
       "      <td>NaN</td>\n",
       "      <td>NaN</td>\n",
       "      <td>57.983562</td>\n",
       "      <td>1</td>\n",
       "      <td>28.00</td>\n",
       "      <td>4.5</td>\n",
       "      <td>0</td>\n",
       "      <td>...</td>\n",
       "      <td>0.008282</td>\n",
       "      <td>0.028709</td>\n",
       "      <td>0.013872</td>\n",
       "      <td>0.012763</td>\n",
       "      <td>13.780639</td>\n",
       "      <td>3.506849</td>\n",
       "      <td>3.654795</td>\n",
       "      <td>7.161644</td>\n",
       "      <td>3.506849</td>\n",
       "      <td>3.506849</td>\n",
       "    </tr>\n",
       "  </tbody>\n",
       "</table>\n",
       "<p>2 rows × 853 columns</p>\n",
       "</div>"
      ],
      "text/plain": [
       "       interval_mri-eeg_abs1 report_date_time report_description  \\\n",
       "sid                                                                \n",
       "sid00                    258              NaN                NaN   \n",
       "sid01                   1280              NaN                NaN   \n",
       "\n",
       "      report_status report_type        age  sex    bmi  ahi  medbenzo  ...  \\\n",
       "sid                                                                    ...   \n",
       "sid00           NaN         NaN  66.832877    0  32.37  8.9         0  ...   \n",
       "sid01           NaN         NaN  57.983562    1  28.00  4.5         0  ...   \n",
       "\n",
       "       vol-ctx--insula  vol-total_ventricle  vol-ctx--anterior  vol-striatum  \\\n",
       "sid                                                                            \n",
       "sid00         0.008634             0.026705           0.015385      0.016066   \n",
       "sid01         0.008282             0.028709           0.013872      0.012763   \n",
       "\n",
       "       alpha_bandpower_mean_o_w  dt_eeg_mri_abs  dt_mmse_eeg_abs  \\\n",
       "sid                                                                \n",
       "sid00                 75.915455        0.706849         3.306849   \n",
       "sid01                 13.780639        3.506849         3.654795   \n",
       "\n",
       "       dt_mmse_mri_abs        dt    dt_abs  \n",
       "sid                                         \n",
       "sid00         2.600000  0.706849  0.706849  \n",
       "sid01         7.161644  3.506849  3.506849  \n",
       "\n",
       "[2 rows x 853 columns]"
      ]
     },
     "execution_count": 5,
     "metadata": {},
     "output_type": "execute_result"
    }
   ],
   "source": [
    "df = pd.read_csv('eeg_mri_cognition_deidentified.csv', index_col=0)\n",
    "print(df.shape)\n",
    "df.head(2)"
   ]
  },
  {
   "cell_type": "code",
   "execution_count": 6,
   "id": "7156a1c8-4da7-4050-a674-3290c6ed67c0",
   "metadata": {},
   "outputs": [],
   "source": [
    "df = df.join(df_table1_all[['dx_dementia', 'dx_no_dementia_cci<2', 'dx_dementia_cat']], on='sid')\n",
    "df['dx_dementia'] = df['dx_dementia'].astype(int)\n",
    "df['dx_no_dementia_cci<2'] = df['dx_no_dementia_cci<2'].astype(int)"
   ]
  },
  {
   "cell_type": "code",
   "execution_count": 7,
   "id": "074ee574",
   "metadata": {},
   "outputs": [
    {
     "name": "stdout",
     "output_type": "stream",
     "text": [
      "Index(['mmse', 'mean_gradient_f3-m2_w', 'fs_symm_c', 'vol-total intracranial'], dtype='object')\n"
     ]
    }
   ],
   "source": [
    "print(df.columns[[14, 15, -66, -65]])\n"
   ]
  },
  {
   "cell_type": "code",
   "execution_count": 8,
   "id": "1bdcc698-ea97-4d1a-bef3-b25eed5d6183",
   "metadata": {},
   "outputs": [
    {
     "name": "stdout",
     "output_type": "stream",
     "text": [
      "Index(['mmse', 'mean_gradient_f3-m2_w', 'fs_symm_c', 'vol-total intracranial'], dtype='object')\n",
      "56\n",
      "776\n"
     ]
    }
   ],
   "source": [
    "cols_mri = list([x for x in df.columns if 'vol-' in x])\n",
    "\n",
    "idx_sleep_start = 15\n",
    "idx_sleep_end = -66\n",
    "print(df.columns[[14, 15, -66, -65]])\n",
    "cols_sleep = list(df.columns[idx_sleep_start:idx_sleep_end]) + ['alpha_bandpower_mean_o_w']\n",
    "print(len(cols_mri))\n",
    "\n",
    "print(len(cols_sleep))\n"
   ]
  },
  {
   "cell_type": "code",
   "execution_count": 9,
   "id": "9443f9c8-42e5-4994-afa4-38d3aafd0650",
   "metadata": {
    "tags": []
   },
   "outputs": [],
   "source": [
    "var_group1 = 'dx_dementia'\n",
    "var_group2 = 'dx_no_dementia_cci<2'\n",
    "\n",
    "df_sleep = df[cols_sleep]\n",
    "df_mri = df[cols_mri]\n"
   ]
  },
  {
   "cell_type": "code",
   "execution_count": 10,
   "id": "20d6b448-8c5c-49b0-af80-2b16cc1a0b9e",
   "metadata": {},
   "outputs": [],
   "source": [
    "df_table1_all = df_table1_all.join(df['sex'], on='sid')\n",
    "\n",
    "df_dx = df_table1_all[[var_group1, var_group2, 'dx_dementia_cat']]\n",
    "df_dx = df_dx.loc[df_sleep.index]\n",
    "df_dx['dx_dementia'] = df_dx['dx_dementia'].astype(int)\n",
    "\n",
    "df_covariates = df_table1_all[['sex', 'age']].copy()\n",
    "df_covariates['sex'] = (df_covariates['sex'] == 'Male').astype(int)\n",
    "\n",
    "df_covariates = df_covariates.loc[df_sleep.index]"
   ]
  },
  {
   "attachments": {},
   "cell_type": "markdown",
   "id": "ff6f0413-d376-4ec7-8ed5-947682e30d82",
   "metadata": {},
   "source": [
    "### MMSE data"
   ]
  },
  {
   "attachments": {},
   "cell_type": "markdown",
   "id": "104dbc7f-8de5-476a-9f69-b111ba1d958b",
   "metadata": {},
   "source": [
    "### what we need here:\n",
    "df_sleep: sleep features  \n",
    "df_mri: mri features  \n",
    "df_dx: disease status  \n",
    "df_covariates: age, sex  "
   ]
  },
  {
   "cell_type": "code",
   "execution_count": 11,
   "id": "cdcc32e3-d9c1-4d75-9ebc-9cdd23d4750e",
   "metadata": {},
   "outputs": [
    {
     "name": "stdout",
     "output_type": "stream",
     "text": [
      "N = 623\n"
     ]
    }
   ],
   "source": [
    "assert all(df_sleep.index == df_mri.index), \"SID must match\"\n",
    "assert all(df_sleep.index == df_dx.index), \"SID must match\"\n",
    "assert all(df_sleep.index == df_covariates.index), \"SID must match\"\n",
    "print(f\"N = {len(df_sleep)}\")"
   ]
  },
  {
   "cell_type": "code",
   "execution_count": 12,
   "id": "594e3517-44e0-4976-8d98-9d9f5716a162",
   "metadata": {},
   "outputs": [],
   "source": [
    "df_data = pd.concat([df_sleep, df_mri, df_covariates, df_dx[['dx_dementia', 'dx_dementia_cat']]], axis=1)\n",
    "# df_data = df"
   ]
  },
  {
   "cell_type": "code",
   "execution_count": 13,
   "id": "39138567-dec9-4b1d-9306-7bb23f672854",
   "metadata": {},
   "outputs": [
    {
     "name": "stdout",
     "output_type": "stream",
     "text": [
      "N controls: 152\n",
      "N dementia+MCI: 107\n",
      "42.2\n",
      "MCI, Dementia 71 36\n",
      "after age restriction\n",
      "N controls: 127\n",
      "N dementia, MCI: (36, 71)\n",
      "Dementia Category controls: \n",
      "dx_dementia_cat\n",
      "no dementia    90\n",
      "excluded       37\n",
      "Name: count, dtype: int64\n",
      "\n",
      "Dementia Category demented: \n",
      "dx_dementia_cat\n",
      "dementia    36\n",
      "Name: count, dtype: int64\n"
     ]
    }
   ],
   "source": [
    "sids_control = df_dx[(df_dx['dx_no_dementia_cci<2'] == 1) & \\\n",
    "                     (np.isin(df_dx['dx_dementia_cat'], ['excluded', 'no dementia']))].index\n",
    "sids_dementia = df_dx[df_dx['dx_dementia'] == 1].index\n",
    "df_data = df_data.loc[list(sids_dementia) + list(sids_control)]\n",
    "\n",
    "print(f\"N controls: {len(sids_control)}\")\n",
    "print(f\"N dementia+MCI: {len(sids_dementia)}\")\n",
    "\n",
    "# restrict data to min age dementia\n",
    "min_age_dementia = df_data.query(\"dx_dementia == 1\").age.min()\n",
    "print(min_age_dementia)\n",
    "df_data = df_data.query(f\"age >= {min_age_dementia}\")\n",
    "sids_control = df_data.query(\"dx_dementia == 0\").index\n",
    "sids_dementia = df_data.query(\"dx_dementia == 1\").index\n",
    "\n",
    "sids_mci = df_data.query(\"dx_dementia == 1\").query('dx_dementia_cat == \"mci\"').index\n",
    "sids_dementia = df_data.query(\"dx_dementia == 1\").query('dx_dementia_cat == \"dementia\"').index\n",
    "print('MCI, Dementia', len(sids_mci), len(sids_dementia))\n",
    "\n",
    "print('after age restriction')\n",
    "print(f\"N controls: {len(sids_control)}\")\n",
    "print(f\"N dementia, MCI: {len(sids_dementia), len(sids_mci)}\")\n",
    "\n",
    "print(f\"Dementia Category controls: \\n{df_data.loc[sids_control, 'dx_dementia_cat'].value_counts()}\")\n",
    "print(f\"\\nDementia Category demented: \\n{df_data.loc[sids_dementia, 'dx_dementia_cat'].value_counts()}\")"
   ]
  },
  {
   "cell_type": "code",
   "execution_count": 14,
   "id": "e07707b3-ac73-4896-8a2c-606855dd049e",
   "metadata": {},
   "outputs": [
    {
     "data": {
      "text/plain": [
       "61.55"
      ]
     },
     "execution_count": 14,
     "metadata": {},
     "output_type": "execute_result"
    }
   ],
   "source": [
    "df_data.age.median()"
   ]
  },
  {
   "cell_type": "code",
   "execution_count": 15,
   "id": "0d3b1b2b-e36e-4d91-b5d7-2b588357d7d2",
   "metadata": {},
   "outputs": [
    {
     "name": "stdout",
     "output_type": "stream",
     "text": [
      "43.0 87.0\n",
      "61.0\n"
     ]
    }
   ],
   "source": [
    "age_min = np.ceil(min_age_dementia)\n",
    "age_max = np.floor(df_data.age.max())\n",
    "print(age_min, age_max)\n",
    "age_range = np.arange(age_min, age_max)\n",
    "idx_medianage = 18\n",
    "print(age_range[idx_medianage])"
   ]
  },
  {
   "attachments": {},
   "cell_type": "markdown",
   "id": "31fdf78e-3a02-47da-a64e-e00669182b94",
   "metadata": {},
   "source": [
    "### fit model \n",
    "\n",
    "First, with interactin term:\n",
    "feature = f(disease, age, sex, disease*age)  \n",
    "prediction_dementia = f(1, age_range, 0.5, 1*age)  \n",
    "prediction_control = f(0, age_range, 0.5, 0*age)\n",
    "\n",
    "However, slope is not significantly different between dementia and non-dementia group. therefore, we fit models without disease*age interaction term and show these. star indicates different offset.\n"
   ]
  },
  {
   "cell_type": "code",
   "execution_count": 16,
   "id": "6aa79a80-9475-4e14-954d-37f60c8dbd6f",
   "metadata": {},
   "outputs": [],
   "source": [
    "structure_vars = ['vol-' + x for x in ['thalamus', 'hippocampus', 'ctx--anterior', 'ctx--isthmuscingulate',\n",
    "                 'amygdala', 'brain-stem', 'total_ventricle']]\n",
    "sleep_vars = [x.lower() for x in ['slowdelta_bandpower_total', 'SO_RATE_F', 'SS_DENS_F', 'FS_DENS_C', 'perc_r',\n",
    "              'alpha_bandpower_mean_O_W']]\n",
    "cognition_vars = ['mmse']"
   ]
  },
  {
   "cell_type": "code",
   "execution_count": 17,
   "id": "ded4f165-1739-459e-a0d0-82de962c0636",
   "metadata": {},
   "outputs": [],
   "source": [
    "def model_and_plot_routine_per_feature(df_data, feature, interaction_age_disease=True, plot=True):\n",
    "\n",
    "    vars_predictors = ['age', 'sex', 'dx_dementia']\n",
    "    df_data_feature = df_data[[feature] + vars_predictors].copy()\n",
    "    if interaction_age_disease:\n",
    "        df_data_feature['age_disease'] = df_data_feature['age'] * df_data_feature['dx_dementia']\n",
    "        vars_predictors += ['age_disease']\n",
    "        \n",
    "    mod = sm.OLS(df_data_feature[feature], sm.add_constant(df_data_feature[vars_predictors]))\n",
    "    res = mod.fit()\n",
    "\n",
    "    df_artificial = pd.DataFrame(columns=['const'] + vars_predictors)\n",
    "    df_artificial['age'] = age_range\n",
    "    df_artificial['sex'] = 0.5\n",
    "    df_artificial['const'] = 1\n",
    "\n",
    "    # get predictions (linefits) for controls and dementia\n",
    "    df_artificial['dx_dementia'] = 0\n",
    "    if interaction_age_disease: \n",
    "        df_artificial['age_disease'] = df_artificial['age'] * df_artificial['dx_dementia']\n",
    "    preds_control = res.predict(df_artificial)\n",
    "    slope_control = preds_control[1] - preds_control[0]\n",
    "    value_medianage_control = preds_control[idx_medianage]\n",
    "    \n",
    "    df_artificial['dx_dementia'] = 1\n",
    "    if interaction_age_disease:\n",
    "        df_artificial['age_disease'] = df_artificial['age'] * df_artificial['dx_dementia']\n",
    "    preds_dementia = res.predict(df_artificial)\n",
    "    slope_dementia = preds_dementia[1] - preds_dementia[0]\n",
    "    value_medianage_dementia = preds_dementia[idx_medianage]\n",
    "    \n",
    "    if plot:\n",
    "        alpha_scatter = 0.6\n",
    "\n",
    "        fig, ax = plt.subplots(1, 1, figsize=(7, 4))\n",
    "        ax.plot(age_range, preds_control, c='orange')\n",
    "        ax.plot(age_range, preds_dementia, c='gray')\n",
    "\n",
    "        df_data_feature_control = df_data_feature[df_data_feature['dx_dementia'] == 0]\n",
    "        df_data_feature_dementia = df_data_feature[df_data_feature['dx_dementia'] == 1]\n",
    "\n",
    "        ax.scatter(df_data_feature_control['age'], df_data_feature_control[feature], \n",
    "                   s=3, color='orange', alpha=alpha_scatter, marker='o')\n",
    "        ax.scatter(df_data_feature_dementia['age'], df_data_feature_dementia[feature], \n",
    "                   s=2.75, color='gray', alpha=alpha_scatter, marker='s')\n",
    "        ax.set_title(feature)\n",
    "        \n",
    "\n",
    "        if interaction_age_disease:\n",
    "            (ci_control, ci_dementia, significant, symbol) = results[(feature, 'slope')]\n",
    "            precision = int(np.ceil(max(-np.log10(abs(min(slope_control, slope_dementia))), 0))) + 1\n",
    "            ci_control = np.round(np.array(ci_control), precision)\n",
    "            ci_dementia = np.round(np.array(ci_dementia), precision)\n",
    "            ax.text(1, 1,\n",
    "                     f\"Slopes:   {symbol}                                                     \\n\\\n",
    "                    Control {np.round(slope_control, precision)} [{ci_control[0]}, {ci_control[1]}]\\n\\\n",
    "                     Dementia {np.round(slope_dementia, precision)} [{ci_dementia[0]}, {ci_dementia[1]}]\",\n",
    "                    transform=ax.transAxes, ha='right', va='top', fontsize=6)\n",
    "\n",
    "        \n",
    "        (ci_control, ci_dementia, significant, symbol) = results[(feature, 'value_median_age')]\n",
    "        precision = int(np.ceil(max(-np.log10(abs(min(value_medianage_control, value_medianage_dementia))), 0))) + 1\n",
    "        ci_control = np.round(np.array(ci_control), precision)\n",
    "        ci_dementia = np.round(np.array(ci_dementia), precision)\n",
    "        ax.text(1, 0.9,\n",
    "                 f\"Value at median age:   {symbol}                                        \\n\\\n",
    "                Control {np.round(value_medianage_control, precision)} [{ci_control[0]}, {ci_control[1]}]\\n\\\n",
    "                 Dementia {np.round(value_medianage_dementia, precision)} [{ci_dementia[0]}, {ci_dementia[1]}]\",\n",
    "                transform=ax.transAxes, ha='right', va='top', fontsize=6)\n",
    "        \n",
    "    return slope_control, value_medianage_control, slope_dementia, value_medianage_dementia"
   ]
  },
  {
   "attachments": {},
   "cell_type": "markdown",
   "id": "fc4434d0-8978-4065-a25d-0292c4a7f6d2",
   "metadata": {},
   "source": [
    "### bootstrappin'"
   ]
  },
  {
   "cell_type": "code",
   "execution_count": 18,
   "id": "afe5d61b-567f-4a68-90cc-53f840a1dac8",
   "metadata": {
    "tags": []
   },
   "outputs": [],
   "source": [
    "def compute_overlap(ci_control, ci_dementia):\n",
    "    \n",
    "    significant = True\n",
    "    if ci_control[0] <= ci_dementia[0] <= ci_control[1]:\n",
    "        significant = False\n",
    "    elif ci_control[0] <= ci_dementia[1] <= ci_control[1]:\n",
    "        significant = False\n",
    "    elif (ci_control[0] <= ci_dementia[0]) & (ci_control[1] >= ci_dementia[1]):\n",
    "        significant = False\n",
    "    elif (ci_control[0] >= ci_dementia[0]) & (ci_control[1] <= ci_dementia[1]):\n",
    "        significant = False\n",
    "\n",
    "    return significant"
   ]
  },
  {
   "cell_type": "code",
   "execution_count": 19,
   "id": "f5b8ba0d-e1a2-49a1-ac0c-e6ac5d4fa65d",
   "metadata": {
    "tags": []
   },
   "outputs": [],
   "source": [
    "def bootstrappin():\n",
    "\n",
    "    n_bootstraps = 500\n",
    "    k = len(df_data)\n",
    "    index_original = np.arange(k)\n",
    "\n",
    "    results = {}\n",
    "\n",
    "    for feature in structure_vars + sleep_vars:\n",
    "        # print(f'\\n{feature}')\n",
    "        list_slope_control = []\n",
    "        list_value_medianage_control = []\n",
    "        list_slope_dementia = []\n",
    "        list_value_medianage_dementia = []\n",
    "\n",
    "        for n in range(n_bootstraps):\n",
    "            index_bootstrap = random.choices(index_original, k=len(df_data)) # random selection (with replacement) of index\n",
    "            df_data_bootstrap = df_data.iloc[index_bootstrap]\n",
    "            slope_control, value_medianage_control, slope_dementia, value_medianage_dementia = model_and_plot_routine_per_feature(df_data_bootstrap,\n",
    "                                                                                                                                  feature,\n",
    "                                                                                                                                  interaction_age_disease=interaction_age_disease,\n",
    "                                                                                                                                  plot=False)\n",
    "            list_slope_control.append(slope_control)\n",
    "            list_value_medianage_control.append(value_medianage_control)\n",
    "            list_slope_dementia.append(slope_dementia)\n",
    "            list_value_medianage_dementia.append(value_medianage_dementia)\n",
    "\n",
    "        ci_slope_control = [np.percentile(list_slope_control, 2.5), np.percentile(list_slope_control, 97.5)]\n",
    "        ci_slope_dementia = [np.percentile(list_slope_dementia, 2.5), np.percentile(list_slope_dementia, 97.5)]\n",
    "        significant = compute_overlap(ci_slope_control, ci_slope_dementia)\n",
    "        symbol = '*' if significant else ''\n",
    "        # print('slope:')\n",
    "        # print(ci_slope_control)\n",
    "        # print(ci_slope_dementia)\n",
    "        # print(significant)\n",
    "        results[(feature, 'slope')] = (ci_slope_control, ci_slope_dementia, significant, symbol)\n",
    "\n",
    "        ci_median_control = [np.percentile(list_value_medianage_control, 2.5), np.percentile(list_value_medianage_control, 97.5)]\n",
    "        ci_median_dementia = [np.percentile(list_value_medianage_dementia, 2.5), np.percentile(list_value_medianage_dementia, 97.5)]\n",
    "        significant = compute_overlap(ci_median_control, ci_median_dementia)\n",
    "        symbol = '*' if significant else ''\n",
    "\n",
    "        # print('median age value:')\n",
    "        # print(ci_median_control)\n",
    "        # print(ci_median_dementia)\n",
    "        # print(significant)\n",
    "        results[(feature, 'value_median_age')] = (ci_median_control, ci_median_dementia, significant, symbol)\n",
    "        \n",
    "    return results"
   ]
  },
  {
   "cell_type": "code",
   "execution_count": 20,
   "id": "4617f7d4-bb14-4cba-ada0-a07abf6bed51",
   "metadata": {
    "tags": []
   },
   "outputs": [],
   "source": [
    "interaction_age_disease = True\n",
    "results = bootstrappin()\n",
    "\n",
    "%matplotlib inline\n",
    "plt.close('all')\n",
    "for feature in structure_vars + sleep_vars:\n",
    "    slope_control, value_medianage_control, slope_dementia, value_medianage_dementia = model_and_plot_routine_per_feature(df_data, \n",
    "                                                                                                                          feature,\n",
    "                                                                                                                      interaction_age_disease=interaction_age_disease, plot=True)"
   ]
  },
  {
   "attachments": {},
   "cell_type": "markdown",
   "id": "8d50a2d4-73ed-4657-9d0d-50ba4c116207",
   "metadata": {},
   "source": [
    "### Slope was never significantly different. Hence, we fit a model without the age * disease interaction term."
   ]
  },
  {
   "cell_type": "code",
   "execution_count": 21,
   "id": "8af1eee5-07d2-474f-a6e5-b2c45066327e",
   "metadata": {
    "tags": []
   },
   "outputs": [],
   "source": [
    "interaction_age_disease = False\n",
    "results = bootstrappin()\n",
    "\n",
    "%matplotlib inline\n",
    "plt.close('all')\n",
    "for feature in structure_vars + sleep_vars:\n",
    "    slope_control, value_medianage_control, slope_dementia, value_medianage_dementia = model_and_plot_routine_per_feature(df_data, \n",
    "                                                                                                                          feature,\n",
    "                                                                                                                          interaction_age_disease=interaction_age_disease,\n",
    "                                                                                                                         plot=True)"
   ]
  },
  {
   "cell_type": "code",
   "execution_count": 22,
   "id": "7450008c-a080-47dd-8d66-e79ca5a8d164",
   "metadata": {
    "tags": []
   },
   "outputs": [
    {
     "name": "stdout",
     "output_type": "stream",
     "text": [
      "SIGNIFICANT OFFSETS:\n",
      "vol-thalamus\n",
      "vol-hippocampus\n",
      "vol-amygdala\n",
      "vol-brain-stem\n",
      "vol-total_ventricle\n"
     ]
    }
   ],
   "source": [
    "print(\"SIGNIFICANT OFFSETS:\")\n",
    "for feature in structure_vars + sleep_vars:\n",
    "    if results[feature, 'value_median_age'][2] == True:\n",
    "        print(feature)"
   ]
  },
  {
   "cell_type": "code",
   "execution_count": null,
   "id": "cb8e65f1-a8c0-4527-8f98-385e8db8308a",
   "metadata": {},
   "outputs": [],
   "source": []
  },
  {
   "cell_type": "code",
   "execution_count": 23,
   "id": "dbd8b567-fadd-44a1-bdc8-7a1c5431243a",
   "metadata": {},
   "outputs": [
    {
     "data": {
      "text/plain": [
       "Index(['age', 'vol-thalamus', 'vol-hippocampus', 'vol-ctx--anterior',\n",
       "       'vol-ctx--isthmuscingulate', 'vol-amygdala', 'vol-brain-stem',\n",
       "       'vol-total_ventricle', 'slowdelta_bandpower_total', 'so_rate_f',\n",
       "       'ss_dens_f', 'fs_dens_c', 'perc_r', 'alpha_bandpower_mean_o_w'],\n",
       "      dtype='object')"
      ]
     },
     "execution_count": 23,
     "metadata": {},
     "output_type": "execute_result"
    }
   ],
   "source": [
    "vars_to_plot = ['vol-thalamus', 'vol-hippocampus', 'vol-ctx--anterior',\n",
    "                'vol-ctx--isthmuscingulate', 'vol-amygdala', 'vol-brain-stem',\n",
    "                'vol-total_ventricle',\n",
    "                'slowdelta_bandpower_total', 'so_rate_f',\n",
    "                'ss_dens_f', 'fs_dens_c',\n",
    "                'perc_r', 'alpha_bandpower_mean_o_w',\n",
    "               ]\n",
    "\n",
    "df_data = df_data.loc[:, ['age'] + vars_to_plot]\n",
    "\n",
    "df_data.columns"
   ]
  },
  {
   "cell_type": "code",
   "execution_count": 24,
   "id": "c4ac3e9a-f3d6-4286-a787-c718a4a05655",
   "metadata": {},
   "outputs": [
    {
     "name": "stdout",
     "output_type": "stream",
     "text": [
      "Explained variance ratio: [0.3034257  0.15001288 0.10481791 0.08907935]\n"
     ]
    }
   ],
   "source": [
    "from sklearn.decomposition import PCA\n",
    "from sklearn.preprocessing import StandardScaler\n",
    "\n",
    "# Create a scaler object\n",
    "scaler = StandardScaler()\n",
    "# Standardize the data\n",
    "X_standardized = scaler.fit_transform(df_data[vars_to_plot])\n",
    "\n",
    "# Perform PCA on X, extracting the first two principal components\n",
    "pca = PCA(n_components=4)\n",
    "principal_components = pca.fit_transform(X_standardized)\n",
    "# Get the scores for each sample along the first two principal components\n",
    "cols_pca = ['PCA1', 'PCA2', 'PCA3', 'PCA4']\n",
    "df_data[cols_pca] = pca.transform(X_standardized)\n",
    "\n",
    "vars_to_plot += cols_pca\n",
    "\n",
    "print(\"Explained variance ratio:\", pca.explained_variance_ratio_)\n",
    "\n",
    "\n",
    "# # Perform UMAP on the standardized data\n",
    "# import umap\n",
    "# umap_model = umap.UMAP(n_components=2)\n",
    "# umap_components = umap_model.fit_transform(X_standardized)\n",
    "# cols_umap = ['UMAP1', 'UMAP2'] # , 'PCA3', 'PCA4']\n",
    "# df_data[cols_umap] = umap_components\n",
    "# vars_to_plot += cols_umap"
   ]
  },
  {
   "cell_type": "code",
   "execution_count": 25,
   "id": "6138b9c5-5d1b-4151-b6b0-050d318be0c5",
   "metadata": {},
   "outputs": [],
   "source": [
    "name_dict = {'vol-ctx--anterior': 'Anterior cortex',\n",
    "                'vol-thalamus': 'Thalamus', \n",
    "             'vol-hippocampus': 'Hippocampus',\n",
    "                'vol-ctx--isthmuscingulate': 'Isthmus', \n",
    "             'vol-amygdala': 'Amygdala', \n",
    "             'vol-brain-stem': 'Brainstem',\n",
    "                'slowdelta_bandpower_total': 'Total delta', \n",
    "             'so_rate_f': 'Slow oscillations',\n",
    "                'ss_dens_f': 'Slow spindles', \n",
    "             'fs_dens_c': 'Fast spindles',\n",
    "                'perc_r': 'REM', \n",
    "             'alpha_bandpower_mean_o_w': 'Mean alpha',\n",
    "             'vol-total_ventricle': 'Ventricles',\n",
    "            }\n",
    "\n",
    "\n",
    "unit_dict = {'vol-ctx--anterior': 'Vol (%)',\n",
    "                'vol-thalamus': 'Vol (%)',\n",
    "             'vol-hippocampus': 'Vol (%)',\n",
    "                'vol-ctx--isthmuscingulate': 'Vol (%)',\n",
    "             'vol-amygdala': 'Vol (%)',\n",
    "             'vol-brain-stem': 'Vol (%)',\n",
    "                'slowdelta_bandpower_total': r'Power(mV$^2$)', \n",
    "             'vol-total_ventricle': 'Vol (%)',\n",
    "             'so_rate_f': 'Rate (/min N2+N3)',\n",
    "                'ss_dens_f': 'Rate (/min N2)', \n",
    "             'fs_dens_c': 'Rate (/min N2)',\n",
    "                'perc_r': 'Fraction (%)',\n",
    "             'alpha_bandpower_mean_o_w':r'Power(uV$^2$)',\n",
    "             'PCA1': '',\n",
    "             'PCA2': '',\n",
    "             'PCA3': '',\n",
    "             'PCA4': '',\n",
    "             'UMAP1': '',\n",
    "             'UMAP2': '',\n",
    "            }"
   ]
  },
  {
   "cell_type": "code",
   "execution_count": 26,
   "id": "bef978b5-0bc6-4c64-a1bf-ff71bb8a35f0",
   "metadata": {},
   "outputs": [],
   "source": [
    "df_data[['vol-ctx--anterior', 'vol-thalamus', 'vol-hippocampus',\n",
    "       'vol-ctx--isthmuscingulate', 'vol-amygdala', 'vol-brain-stem', 'vol-total_ventricle',\n",
    "       'perc_r']] *= 100 # in percentage"
   ]
  },
  {
   "cell_type": "code",
   "execution_count": 27,
   "id": "089157f7-b8d9-4ae5-beb1-03a40738adbf",
   "metadata": {},
   "outputs": [
    {
     "data": {
      "text/plain": [
       "['vol-thalamus',\n",
       " 'vol-hippocampus',\n",
       " 'vol-ctx--anterior',\n",
       " 'vol-ctx--isthmuscingulate',\n",
       " 'vol-amygdala',\n",
       " 'vol-brain-stem',\n",
       " 'vol-total_ventricle',\n",
       " 'slowdelta_bandpower_total',\n",
       " 'so_rate_f',\n",
       " 'ss_dens_f',\n",
       " 'fs_dens_c',\n",
       " 'perc_r',\n",
       " 'PCA1',\n",
       " 'PCA2',\n",
       " 'PCA3',\n",
       " 'PCA4']"
      ]
     },
     "execution_count": 27,
     "metadata": {},
     "output_type": "execute_result"
    }
   ],
   "source": [
    "df_data['slowdelta_bandpower_total'] /= 1e6 #uV^2 to mV^2\n",
    "vars_to_plot.remove('alpha_bandpower_mean_o_w')\n",
    "vars_to_plot"
   ]
  },
  {
   "cell_type": "code",
   "execution_count": 28,
   "id": "648a39e3",
   "metadata": {
    "tags": []
   },
   "outputs": [],
   "source": [
    "df_control = df_data.loc[sids_control, ['age'] + vars_to_plot]\n",
    "df_mci = df_data.loc[sids_mci, ['age'] + vars_to_plot]\n",
    "df_dementia =df_data.loc[sids_dementia, ['age'] + vars_to_plot]\n",
    "             \n",
    "%matplotlib inline\n",
    "from matplotlib.ticker import FormatStrFormatter\n",
    "import seaborn as sns\n",
    "\n",
    "plt.rcParams.update({'font.size': 8})\n",
    "plt.close('all')\n",
    "\n",
    "alpha_scatter = 0.9\n",
    "fig, ax = plt.subplots(4, 4, figsize=(7, 7), sharex='col')\n",
    "ax = ax[:].flatten()\n",
    "\n",
    "\n",
    "for i in range(len(vars_to_plot)):\n",
    "        \n",
    "    feature = vars_to_plot[i]\n",
    "    try:\n",
    "        label = name_dict[feature]\n",
    "    except:\n",
    "        label = feature\n",
    "        \n",
    "    unit = unit_dict[feature]\n",
    "    \n",
    "    ax[i].scatter(df_control['age'], df_control[feature], \n",
    "               s=1, color='mediumaquamarine', alpha=alpha_scatter, marker='o')\n",
    "    ax[i].scatter(df_mci['age'], df_mci[feature], \n",
    "               s=1, color='orange', alpha=alpha_scatter, marker='o')\n",
    "    ax[i].scatter(df_dementia['age'], df_dementia[feature], \n",
    "               s=1, color='tomato', alpha=alpha_scatter, marker='o')\n",
    "    \n",
    "    \n",
    "    order = 1\n",
    "    if feature in ['vol-total_ventricle']:\n",
    "        order = 2\n",
    "    sns.regplot(x=df_control['age'], y=df_control[feature], ci=95, n_boot=1000, seed=43, order=order, x_ci=5,\n",
    "                color='mediumaquamarine', scatter=False, ax=ax[i], scatter_kws={'alpha': 1}, label='Control')\n",
    "    sns.regplot(x=df_mci['age'], y=df_mci[feature], ci=95, n_boot=1000, seed=43, order=order, x_ci=5,\n",
    "                color=\"orange\", scatter=False, ax=ax[i], label='MCI')\n",
    "    sns.regplot(x=df_dementia['age'], y=df_dementia[feature], ci=95, n_boot=1000, seed=43, order=order, x_ci=5,\n",
    "                color=\"tomato\", scatter=False, ax=ax[i], label='Dementia')\n",
    "\n",
    "    all_y_vals = np.concatenate([df_control[feature], \n",
    "                                 df_mci[feature],\n",
    "                                 df_dementia[feature],\n",
    "                                ])\n",
    "    if feature == 'amygdala':\n",
    "        ax[i].set_yticks(np.arange(0, 1, 0.1))\n",
    "    if feature == 'ctx--isthmuscingulate':\n",
    "        ax[i].set_yticks(np.arange(0, 1, 0.1)) \n",
    "    if feature == 'brain-stem':\n",
    "        ax[i].set_yticks(np.arange(0, 5, 0.5)) \n",
    "        \n",
    "    ax[i].set_ylim(np.percentile(all_y_vals, 0.5), np.percentile(all_y_vals, 99.5))\n",
    "    ax[i].set_title(label, pad=-3)                                                                    \n",
    "    ax[i].set_ylabel(unit, labelpad=0.1)\n",
    "    ax[i].tick_params(length=1.5, pad=0, labelsize=8)\n",
    "    ax[i].set_xlim([40, 95])\n",
    "    \n",
    "    ax[i].set_xlabel('')\n",
    "    if i >= 12:\n",
    "        ax[i].set_xlabel('Age (years)')\n",
    "        \n",
    "\n",
    "        \n",
    "handles, labels = ax[0].get_legend_handles_labels()\n",
    "fig.legend(handles, labels, loc='upper center', ncol=3, frameon=False, bbox_to_anchor=(0.5, 1))\n",
    "\n",
    "sns.despine(left=True, bottom=True)\n",
    "\n",
    "plt.subplots_adjust(wspace=0.2, left=0.06, right=1, top=0.92, bottom=0.05)\n",
    "fig.align_ylabels(ax)\n",
    "\n",
    "plt.savefig('./figures/mri_eeg_dementia_control_3groups.png', dpi=600)"
   ]
  },
  {
   "cell_type": "code",
   "execution_count": 29,
   "id": "cbf7f6a8-8f31-4b5c-b76b-251e59c6197b",
   "metadata": {},
   "outputs": [],
   "source": [
    "df_control = df_data.loc[sids_control, ['age'] + vars_to_plot]\n",
    "df_mci_dementia = df_data.loc[list(sids_mci) + list(sids_dementia), ['age'] + vars_to_plot]\n",
    "\n",
    "from matplotlib.ticker import FormatStrFormatter\n",
    "import seaborn as sns\n",
    "\n",
    "plt.rcParams.update({'font.size': 8})\n",
    "plt.close('all')\n",
    "\n",
    "# alpha_scatter = 0.5\n",
    "fig, ax = plt.subplots(4, 4, figsize=(7, 7), sharex='col')\n",
    "ax = ax[:].flatten()\n",
    "\n",
    "\n",
    "for i in range(len(vars_to_plot)):\n",
    "        \n",
    "    feature = vars_to_plot[i]\n",
    "    try:\n",
    "        label = name_dict[feature]\n",
    "    except:\n",
    "        label = feature\n",
    "        \n",
    "    unit = unit_dict[feature]\n",
    "    \n",
    "    ax[i].scatter(df_control['age'], df_control[feature], \n",
    "               s=1, color='mediumaquamarine', alpha=alpha_scatter, marker='o')\n",
    "    ax[i].scatter(df_mci_dementia['age'], df_mci_dementia[feature], \n",
    "               s=1, color='tomato', alpha=alpha_scatter, marker='o')\n",
    "    \n",
    "    order = 1\n",
    "    if feature in ['vol-total_ventricle']:\n",
    "        order = 2\n",
    "    sns.regplot(x=df_control['age'], y=df_control[feature], ci=95, n_boot=1000, seed=43, order=order, x_ci=5,\n",
    "                color='mediumaquamarine', scatter=False, ax=ax[i], scatter_kws={'alpha': 1}, label='Control')\n",
    "    sns.regplot(x=df_mci_dementia['age'], y=df_mci_dementia[feature], ci=95, n_boot=1000, seed=43, order=order, x_ci=5,\n",
    "                color=\"tomato\", scatter=False, ax=ax[i], label='MCI and Dementia')\n",
    "\n",
    "    all_y_vals = np.concatenate([df_control[feature], \n",
    "                                 df_mci[feature],\n",
    "                                 df_dementia[feature],\n",
    "                                ])\n",
    "    if feature == 'amygdala':\n",
    "        ax[i].set_yticks(np.arange(0, 1, 0.1))\n",
    "    if feature == 'ctx--isthmuscingulate':\n",
    "        ax[i].set_yticks(np.arange(0, 1, 0.1)) \n",
    "    if feature == 'brain-stem':\n",
    "        ax[i].set_yticks(np.arange(0, 5, 0.5)) \n",
    "        \n",
    "    ax[i].set_ylim(np.percentile(all_y_vals, 0.5), np.percentile(all_y_vals, 99.5))\n",
    "    ax[i].set_title(label, pad=-3)                                                                    \n",
    "    ax[i].set_ylabel(unit, labelpad=0.1)\n",
    "    ax[i].tick_params(length=1.5, pad=0, labelsize=8)\n",
    "    ax[i].set_xlim([40, 95])\n",
    "    \n",
    "    ax[i].set_xlabel('')\n",
    "    if i >= 12:\n",
    "        ax[i].set_xlabel('Age (years)')\n",
    "\n",
    "        \n",
    "handles, labels = ax[0].get_legend_handles_labels()\n",
    "fig.legend(handles, labels, loc='upper center', ncol=2, frameon=False, bbox_to_anchor=(0.5, 1))\n",
    "\n",
    "sns.despine(left=True, bottom=True)\n",
    "\n",
    "plt.subplots_adjust(wspace=0.2, left=0.06, right=1, top=0.92, bottom=0.05)\n",
    "fig.align_ylabels(ax)\n",
    "    \n",
    "    \n",
    "\n",
    "plt.savefig('./results/mri_eeg_dementia_control_2groups.png', dpi=600)\n",
    "\n"
   ]
  },
  {
   "cell_type": "code",
   "execution_count": null,
   "id": "4541291c-6344-4f33-b36d-33849210667c",
   "metadata": {},
   "outputs": [],
   "source": []
  }
 ],
 "metadata": {
  "kernelspec": {
   "display_name": "oracle",
   "language": "python",
   "name": "python3"
  },
  "language_info": {
   "codemirror_mode": {
    "name": "ipython",
    "version": 3
   },
   "file_extension": ".py",
   "mimetype": "text/x-python",
   "name": "python",
   "nbconvert_exporter": "python",
   "pygments_lexer": "ipython3",
   "version": "3.10.15"
  }
 },
 "nbformat": 4,
 "nbformat_minor": 5
}
